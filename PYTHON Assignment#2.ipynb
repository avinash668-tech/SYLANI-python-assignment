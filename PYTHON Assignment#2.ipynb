{
 "cells": [
  {
   "cell_type": "code",
   "execution_count": 1,
   "metadata": {},
   "outputs": [
    {
     "name": "stdout",
     "output_type": "stream",
     "text": [
      "SSC Mark Sheet\n",
      "Enter marks of math: 85\n",
      "Enter marks of science: 88\n",
      "Enter marks of english: 67\n",
      "Enter marks of chemistry: 65\n",
      "Enter marks of physics: 90\n",
      "total marks 500\n",
      "395\n",
      "Grade: C\n"
     ]
    }
   ],
   "source": [
    "#Q1; Mark sheet\n",
    "\n",
    "a=(\"SSC Mark Sheet\")\n",
    "print(a)\n",
    "sub1=int(input(\"Enter marks of math: \"))\n",
    "sub2=int(input(\"Enter marks of science: \"))\n",
    "sub3=int(input(\"Enter marks of english: \"))\n",
    "sub4=int(input(\"Enter marks of chemistry: \"))\n",
    "sub5=int(input(\"Enter marks of physics: \"))\n",
    "b = (\"total marks 500\")\n",
    "print(b)\n",
    "print(sub1 + sub2 + sub3 + sub4 + sub5)\n",
    "avg=(sub1+sub2+sub3+sub4+sub4)/5\n",
    "if(avg>=90):\n",
    "    print(\"Grade: A\")\n",
    "elif(avg>=80 and avg<90):\n",
    "    print(\"Grade: B\")\n",
    "elif(avg>=70 and avg<80):\n",
    "    print(\"Grade: C\")\n",
    "elif(avg>=60 and avg<70):\n",
    "    print(\"Grade: D\")\n",
    "else:\n",
    "    print(\"Grade: F\")"
   ]
  },
  {
   "cell_type": "code",
   "execution_count": 3,
   "metadata": {},
   "outputs": [
    {
     "name": "stdout",
     "output_type": "stream",
     "text": [
      "enter the number  15\n",
      "the number is odd\n"
     ]
    }
   ],
   "source": [
    "#Q2;program take input from user and identifies either even or odd number\n",
    "\n",
    "num = int(input (\"enter the number  \"))\n",
    "if (num % 2) == 0 :\n",
    "    print(\"the number is even\".format(num))\n",
    "else :\n",
    "    print(\"the number is odd\".format(num))"
   ]
  },
  {
   "cell_type": "code",
   "execution_count": 4,
   "metadata": {},
   "outputs": [
    {
     "name": "stdout",
     "output_type": "stream",
     "text": [
      "length of list:  3\n"
     ]
    }
   ],
   "source": [
    "#Q3; Length of List\n",
    "\n",
    "a = len([\"sylani mass it traning\", \"my name is avinash\", \"Enrolled in CCNA & Python\"])\n",
    "print(\"length of list: \",  a)\n"
   ]
  },
  {
   "cell_type": "code",
   "execution_count": 5,
   "metadata": {},
   "outputs": [
    {
     "name": "stdout",
     "output_type": "stream",
     "text": [
      "The largest number from above the numeric list is:  1000.99\n"
     ]
    }
   ],
   "source": [
    "#Q4; get the largest number from a numeric list\n",
    "\n",
    "list = [1,2,5,11,55,666,78,1000.99]\n",
    "print(\"The largest number from above the numeric list is: \", max(list))"
   ]
  },
  {
   "cell_type": "code",
   "execution_count": 9,
   "metadata": {},
   "outputs": [
    {
     "name": "stdout",
     "output_type": "stream",
     "text": [
      "0\n",
      "1\n",
      "4\n",
      "3\n",
      "2\n",
      "5\n",
      "4.3\n",
      "2.2\n"
     ]
    }
   ],
   "source": [
    "#Q5; print all the elements from list that are equall or less than or equal to 5\n",
    "\n",
    "A = [0,1,4,3,2,5,100,1000,500,50,4.3,2.2]\n",
    "for s in A:\n",
    "    if s<=5:\n",
    "        print(s)"
   ]
  },
  {
   "cell_type": "code",
   "execution_count": 10,
   "metadata": {},
   "outputs": [
    {
     "name": "stdout",
     "output_type": "stream",
     "text": [
      "Sum of elements in given list is : 1021.742\n"
     ]
    }
   ],
   "source": [
    "#Q6; sum all the numeric items in list\n",
    "\n",
    "list = [1,2,3,3.22,4.522,8,1000]\n",
    "print(\"Sum of elements in given list is :\", sum(list))"
   ]
  },
  {
   "cell_type": "code",
   "execution_count": null,
   "metadata": {},
   "outputs": [],
   "source": []
  }
 ],
 "metadata": {
  "kernelspec": {
   "display_name": "Python 3",
   "language": "python",
   "name": "python3"
  },
  "language_info": {
   "codemirror_mode": {
    "name": "ipython",
    "version": 3
   },
   "file_extension": ".py",
   "mimetype": "text/x-python",
   "name": "python",
   "nbconvert_exporter": "python",
   "pygments_lexer": "ipython3",
   "version": "3.7.4"
  }
 },
 "nbformat": 4,
 "nbformat_minor": 2
}
