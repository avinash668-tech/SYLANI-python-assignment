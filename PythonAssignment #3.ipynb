{
 "cells": [
  {
   "cell_type": "code",
   "execution_count": 7,
   "metadata": {},
   "outputs": [
    {
     "name": "stdout",
     "output_type": "stream",
     "text": [
      "Enter your 1st number 3\n",
      "Enter your 2nd number 5\n",
      "which operation would you like to perform \n",
      "Enter desired operation +,-,*,//,** : **\n",
      "3 ** 5 = 243\n"
     ]
    }
   ],
   "source": [
    "#Q1;Calculator\n",
    "num1 = int(input(\"Enter your 1st number \"))\n",
    "num2 = int(input(\"Enter your 2nd number \"))\n",
    "print(\"which operation would you like to perform \")\n",
    "ch = input(\"Enter desired operation +,-,*,//,** : \")\n",
    "if ch == '//' :\n",
    "    result = num1 // num2 \n",
    "elif ch == '*' :\n",
    "    result = num1 * num2\n",
    "elif ch == '+' :    \n",
    "    result = num1 + num2\n",
    "elif ch == '-' :\n",
    "    result = num1 - num2\n",
    "elif ch == '**' :\n",
    "    result = num1 ** num2\n",
    "    \n",
    "print(num1, ch, num2, \"=\", result)  "
   ]
  },
  {
   "cell_type": "code",
   "execution_count": 1,
   "metadata": {},
   "outputs": [
    {
     "name": "stdout",
     "output_type": "stream",
     "text": [
      "{'avi': 1, 'salman': 2}\n",
      "{'avi': 1, 'salman': 2, 'a': 100, 'zaki': 3, 'imran': 4}\n"
     ]
    }
   ],
   "source": [
    "#Q2; Add new key into Dictionary \n",
    "d = {'avi': 1, 'salman': 2}\n",
    "print(d)\n",
    "d['a'] = 100  # existing key\n",
    "d['zaki'] = 3  # new key, \n",
    "d['imran'] = 4\n",
    "print(d)"
   ]
  },
  {
   "cell_type": "code",
   "execution_count": 21,
   "metadata": {},
   "outputs": [
    {
     "name": "stdout",
     "output_type": "stream",
     "text": [
      "sum of all numeric items =  11\n"
     ]
    }
   ],
   "source": [
    "#Q3;sum all the numeric items in dictionary \n",
    "my_dict = {'data1':3,'data2':5,'data3':3}\n",
    "print(\"sum of all numeric items = \", sum(my_dict.values()))"
   ]
  },
  {
   "cell_type": "code",
   "execution_count": 17,
   "metadata": {},
   "outputs": [
    {
     "name": "stdout",
     "output_type": "stream",
     "text": [
      "1.5\n",
      "20\n",
      "99.9\n"
     ]
    }
   ],
   "source": [
    "#Q4; identify duplicate values from the list\n",
    "my_list = [1.5,20,0,1.5,99,99.9,98.9,99.9,20.5,20]\n",
    "my_list.sort()\n",
    "for i in range (len (my_list) -1):\n",
    " if my_list[i] == my_list[i+1]:\n",
    "  print (my_list[i])"
   ]
  },
  {
   "cell_type": "code",
   "execution_count": 22,
   "metadata": {},
   "outputs": [
    {
     "name": "stdout",
     "output_type": "stream",
     "text": [
      "Key is present in the dictionary\n",
      "Key is not present in the dictionary\n"
     ]
    }
   ],
   "source": [
    "#Q5:check if a given key already exists in a dictionary\n",
    "d = {1: 10, 2: 20, 3: 30, 4: 40, 5: 50, 6: 60}\n",
    "def is_key_present(x):\n",
    "  if x in d:\n",
    "      print('Key is present in the dictionary')\n",
    "  else:\n",
    "      print('Key is not present in the dictionary')\n",
    "is_key_present(6)\n",
    "is_key_present(10)"
   ]
  },
  {
   "cell_type": "code",
   "execution_count": null,
   "metadata": {},
   "outputs": [],
   "source": []
  }
 ],
 "metadata": {
  "kernelspec": {
   "display_name": "Python 3",
   "language": "python",
   "name": "python3"
  },
  "language_info": {
   "codemirror_mode": {
    "name": "ipython",
    "version": 3
   },
   "file_extension": ".py",
   "mimetype": "text/x-python",
   "name": "python",
   "nbconvert_exporter": "python",
   "pygments_lexer": "ipython3",
   "version": "3.7.4"
  }
 },
 "nbformat": 4,
 "nbformat_minor": 2
}
